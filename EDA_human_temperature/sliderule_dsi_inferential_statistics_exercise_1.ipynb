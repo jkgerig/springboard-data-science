{
 "cells": [
  {
   "cell_type": "markdown",
   "metadata": {},
   "source": [
    "# What is the True Normal Human Body Temperature? \n",
    "\n",
    "#### Background\n",
    "\n",
    "The mean normal body temperature was held to be 37$^{\\circ}$C or 98.6$^{\\circ}$F for more than 120 years since it was first conceptualized and reported by Carl Wunderlich in a famous 1868 book. But, is this value statistically correct?"
   ]
  },
  {
   "cell_type": "markdown",
   "metadata": {},
   "source": [
    "<h3>Exercises</h3>\n",
    "\n",
    "<p>In this exercise, you will analyze a dataset of human body temperatures and employ the concepts of hypothesis testing, confidence intervals, and statistical significance.</p>\n",
    "\n",
    "<p>Answer the following questions <b>in this notebook below and submit to your Github account</b>.</p> \n",
    "\n",
    "<ol>\n",
    "<li>  Is the distribution of body temperatures normal? \n",
    "    <ul>\n",
    "    <li> Although this is not a requirement for the Central Limit Theorem to hold (read the introduction on Wikipedia's page about the CLT carefully: https://en.wikipedia.org/wiki/Central_limit_theorem), it gives us some peace of mind that the population may also be normally distributed if we assume that this sample is representative of the population.\n",
    "    <li> Think about the way you're going to check for the normality of the distribution. Graphical methods are usually used first, but there are also other ways: https://en.wikipedia.org/wiki/Normality_test\n",
    "    </ul>\n",
    "<li>  Is the sample size large? Are the observations independent?\n",
    "    <ul>\n",
    "    <li> Remember that this is a condition for the Central Limit Theorem, and hence the statistical tests we are using, to apply.\n",
    "    </ul>\n",
    "<li>  Is the true population mean really 98.6 degrees F?\n",
    "    <ul>\n",
    "    <li> First, try a bootstrap hypothesis test.\n",
    "    <li> Now, let's try frequentist statistical testing. Would you use a one-sample or two-sample test? Why?\n",
    "    <li> In this situation, is it appropriate to use the $t$ or $z$ statistic? \n",
    "    <li> Now try using the other test. How is the result be different? Why?\n",
    "    </ul>\n",
    "<li>  Draw a small sample of size 10 from the data and repeat both frequentist tests. \n",
    "    <ul>\n",
    "    <li> Which one is the correct one to use? \n",
    "    <li> What do you notice? What does this tell you about the difference in application of the $t$ and $z$ statistic?\n",
    "    </ul>\n",
    "<li>  At what temperature should we consider someone's temperature to be \"abnormal\"?\n",
    "    <ul>\n",
    "    <li> As in the previous example, try calculating everything using the boostrap approach, as well as the frequentist approach.\n",
    "    <li> Start by computing the margin of error and confidence interval. When calculating the confidence interval, keep in mind that you should use the appropriate formula for one draw, and not N draws.\n",
    "    </ul>\n",
    "<li>  Is there a significant difference between males and females in normal temperature?\n",
    "    <ul>\n",
    "    <li> What testing approach did you use and why?\n",
    "    <li> Write a story with your conclusion in the context of the original problem.\n",
    "    </ul>\n",
    "</ol>\n",
    "\n",
    "You can include written notes in notebook cells using Markdown: \n",
    "   - In the control panel at the top, choose Cell > Cell Type > Markdown\n",
    "   - Markdown syntax: http://nestacms.com/docs/creating-content/markdown-cheat-sheet\n",
    "\n",
    "#### Resources\n",
    "\n",
    "+ Information and data sources: http://www.amstat.org/publications/jse/datasets/normtemp.txt, http://www.amstat.org/publications/jse/jse_data_archive.htm\n",
    "+ Markdown syntax: http://nestacms.com/docs/creating-content/markdown-cheat-sheet\n",
    "\n",
    "****"
   ]
  },
  {
   "cell_type": "code",
   "execution_count": 1,
   "metadata": {},
   "outputs": [],
   "source": [
    "import pandas as pd\n",
    "import matplotlib.pyplot as plt\n",
    "import numpy as np\n",
    "import math\n",
    "import scipy.stats as stats\n",
    "from statsmodels.stats.weightstats import ztest\n",
    "\n",
    "df = pd.read_csv('data/human_body_temperature.csv')\n"
   ]
  },
  {
   "cell_type": "markdown",
   "metadata": {},
   "source": [
    "## Q1. Is the distribution of body temperatures normal?\n",
    "\n",
    "> Yes, it appears that the temperatures are approximately normal, although perhaps a bit skewed towards lower temperatures."
   ]
  },
  {
   "cell_type": "code",
   "execution_count": 2,
   "metadata": {},
   "outputs": [
    {
     "data": {
      "image/png": "[encoded data removed]",
      "text/plain": [
       "<Figure size 432x288 with 1 Axes>"
      ]
     },
     "metadata": {},
     "output_type": "display_data"
    }
   ],
   "source": [
    "_ = df.hist(column='temperature')"
   ]
  },
  {
   "cell_type": "markdown",
   "metadata": {},
   "source": [
    "## Q2. Is the sample size large? Are the observations independent?\n",
    "\n",
    "> Yes, sample size is >= 30\n",
    "\n",
    "> Observations are assumed to be independent, taken from different people assumed to be randomly selected."
   ]
  },
  {
   "cell_type": "code",
   "execution_count": 3,
   "metadata": {},
   "outputs": [
    {
     "name": "stdout",
     "output_type": "stream",
     "text": [
      "130\n"
     ]
    }
   ],
   "source": [
    "print(df.index.size)"
   ]
  },
  {
   "cell_type": "markdown",
   "metadata": {},
   "source": [
    "## Q3. Is the true population mean really 98.6 degrees F?\n",
    "\n",
    "> No, the population mean is NOT really 98.6 degrees F\n",
    "\n",
    "- Would you use a one-sample or two-sample test? Why?\n",
    "> One sample, because we are comparing the mean of our sample to a known value, not another sample.\n",
    "- In this situation, is it appropriate to use the $t$ or $z$ statistic?\n",
    "> Either, because we are comparing a large enough sample to a known population mean.\n",
    "- Now try using the other test. How is the result be different? Why?\n",
    "> The result is essentially the same, both p-values are extremely small."
   ]
  },
  {
   "cell_type": "code",
   "execution_count": 4,
   "metadata": {},
   "outputs": [
    {
     "name": "stdout",
     "output_type": "stream",
     "text": [
      "t-test p-value: 2.4106320415561276e-07\n"
     ]
    }
   ],
   "source": [
    "temperature_t = stats.ttest_1samp(df.temperature, 98.6)\n",
    "\n",
    "print('t-test p-value:', temperature_t.pvalue)"
   ]
  },
  {
   "cell_type": "code",
   "execution_count": 5,
   "metadata": {},
   "outputs": [
    {
     "name": "stdout",
     "output_type": "stream",
     "text": [
      "z-test p-value: 4.9021570141012155e-08\n"
     ]
    }
   ],
   "source": [
    "temperature_z = ztest(df.temperature, value=98.6)\n",
    "\n",
    "print('z-test p-value:', temperature_z[1])"
   ]
  },
  {
   "cell_type": "markdown",
   "metadata": {},
   "source": [
    "## Q4. Draw a small sample of size 10 from the data and repeat both frequentist tests.\n",
    "\n",
    "- Which one is the correct one to use?\n",
    "> A t-test is the choice since our sample size is less than 30.\n",
    "- What do you notice? What does this tell you about the difference in application of the $t$ and $z$ statistic?\n",
    "> Both tests show p-values > .05, but repeated runs of these tests show drastically different p-values, meaning that a sample size of 10 is far too small"
   ]
  },
  {
   "cell_type": "code",
   "execution_count": 6,
   "metadata": {},
   "outputs": [
    {
     "name": "stdout",
     "output_type": "stream",
     "text": [
      "55     98.6\n",
      "40     98.4\n",
      "19     99.4\n",
      "31     97.6\n",
      "115    98.0\n",
      "56     98.8\n",
      "69     98.9\n",
      "105    96.7\n",
      "81     98.0\n",
      "26     97.8\n",
      "Name: temperature, dtype: float64\n"
     ]
    }
   ],
   "source": [
    "sample_10 = df.temperature.sample(10, random_state=42)\n",
    "\n",
    "print(sample_10)"
   ]
  },
  {
   "cell_type": "code",
   "execution_count": 9,
   "metadata": {},
   "outputs": [
    {
     "name": "stdout",
     "output_type": "stream",
     "text": [
      "t-test (n=10) p-value: 0.15304624869561917\n"
     ]
    }
   ],
   "source": [
    "temperature_t_sample = stats.ttest_1samp(sample_10, 98.6)\n",
    "\n",
    "print('t-test (n=10) p-value:', temperature_t_sample.pvalue)"
   ]
  },
  {
   "cell_type": "code",
   "execution_count": 10,
   "metadata": {},
   "outputs": [
    {
     "name": "stdout",
     "output_type": "stream",
     "text": [
      "z-test (n=10) p-value: 0.11861362990253162\n"
     ]
    }
   ],
   "source": [
    "temperature_z_sample = ztest(sample_10, value=98.6)\n",
    "\n",
    "print('z-test (n=10) p-value:', temperature_z_sample[1])"
   ]
  },
  {
   "cell_type": "markdown",
   "metadata": {},
   "source": [
    "## Q5. At what temperature should we consider someone's temperature to be \"abnormal\"?\n",
    "\n",
    "> Using a 95% confidence interval, the normal body temperature range is between 98.123 and 98.375 degrees F"
   ]
  },
  {
   "cell_type": "code",
   "execution_count": 25,
   "metadata": {},
   "outputs": [
    {
     "name": "stdout",
     "output_type": "stream",
     "text": [
      "(abnormal) 98.123 < (normal) < 98.375 (abnormal)\n"
     ]
    }
   ],
   "source": [
    "n = len(df.temperature)\n",
    "mean = df.temperature.mean()\n",
    "stdev = df.temperature.std()\n",
    "cv = 1.96\n",
    "se = stdev/math.sqrt(n)\n",
    "\n",
    "low, high = mean - (cv * se), mean + (cv * se)\n",
    "\n",
    "low = round(low, 3)\n",
    "high = round(high, 3)\n",
    "\n",
    "print('(abnormal)', low, '< (normal) <', high, '(abnormal)')"
   ]
  },
  {
   "cell_type": "markdown",
   "metadata": {},
   "source": [
    "## Q6. Is there a significant difference between males and females in normal temperature?\n",
    "\n",
    "> Yes, there is a statistically significant difference in normal body temperature between males and females"
   ]
  },
  {
   "cell_type": "code",
   "execution_count": 41,
   "metadata": {},
   "outputs": [
    {
     "name": "stdout",
     "output_type": "stream",
     "text": [
      "# males: 65\n",
      "# females: 65\n"
     ]
    }
   ],
   "source": [
    "male = df[df.gender == 'M']\n",
    "female = df[df.gender == 'F']\n",
    "\n",
    "print('# males:', male.index.size)\n",
    "print('# females:', female.index.size)"
   ]
  },
  {
   "cell_type": "code",
   "execution_count": 48,
   "metadata": {},
   "outputs": [
    {
     "name": "stdout",
     "output_type": "stream",
     "text": [
      "z-test for difference in temp between genders\n",
      "p-value: 0.022\n"
     ]
    }
   ],
   "source": [
    "gender_difference = ztest(x1=male.temperature, x2=female.temperature)\n",
    "\n",
    "print('z-test for difference in temp between genders')\n",
    "print('p-value:', round(gender_difference[1],3))"
   ]
  }
 ],
 "metadata": {
  "kernelspec": {
   "display_name": "Python 3",
   "language": "python",
   "name": "python3"
  },
  "language_info": {
   "codemirror_mode": {
    "name": "ipython",
    "version": 3
   },
   "file_extension": ".py",
   "mimetype": "text/x-python",
   "name": "python",
   "nbconvert_exporter": "python",
   "pygments_lexer": "ipython3",
   "version": "3.6.6"
  }
 },
 "nbformat": 4,
 "nbformat_minor": 1
}
