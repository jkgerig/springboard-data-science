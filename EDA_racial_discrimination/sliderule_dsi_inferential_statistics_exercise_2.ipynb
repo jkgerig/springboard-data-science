{
 "cells": [
  {
   "cell_type": "markdown",
   "metadata": {},
   "source": [
    "# Examining Racial Discrimination in the US Job Market\n",
    "\n",
    "### Background\n",
    "Racial discrimination continues to be pervasive in cultures throughout the world. Researchers examined the level of racial discrimination in the United States labor market by randomly assigning identical résumés to black-sounding or white-sounding names and observing the impact on requests for interviews from employers.\n",
    "\n",
    "### Data\n",
    "In the dataset provided, each row represents a resume. The 'race' column has two values, 'b' and 'w', indicating black-sounding and white-sounding. The column 'call' has two values, 1 and 0, indicating whether the resume received a call from employers or not.\n",
    "\n",
    "Note that the 'b' and 'w' values in race are assigned randomly to the resumes when presented to the employer."
   ]
  },
  {
   "cell_type": "markdown",
   "metadata": {},
   "source": [
    "<div class=\"span5 alert alert-info\">\n",
    "### Exercises\n",
    "You will perform a statistical analysis to establish whether race has a significant impact on the rate of callbacks for resumes.\n",
    "\n",
    "Answer the following questions **in this notebook below and submit to your Github account**. \n",
    "\n",
    "   1. What test is appropriate for this problem? Does CLT apply?\n",
    "   2. What are the null and alternate hypotheses?\n",
    "   3. Compute margin of error, confidence interval, and p-value. Try using both the bootstrapping and the frequentist statistical approaches.\n",
    "   4. Write a story describing the statistical significance in the context or the original problem.\n",
    "   5. Does your analysis mean that race/name is the most important factor in callback success? Why or why not? If not, how would you amend your analysis?\n",
    "\n",
    "You can include written notes in notebook cells using Markdown: \n",
    "   - In the control panel at the top, choose Cell > Cell Type > Markdown\n",
    "   - Markdown syntax: http://nestacms.com/docs/creating-content/markdown-cheat-sheet\n",
    "\n",
    "\n",
    "#### Resources\n",
    "+ Experiment information and data source: http://www.povertyactionlab.org/evaluation/discrimination-job-market-united-states\n",
    "+ Scipy statistical methods: http://docs.scipy.org/doc/scipy/reference/stats.html \n",
    "+ Markdown syntax: http://nestacms.com/docs/creating-content/markdown-cheat-sheet\n",
    "+ Formulas for the Bernoulli distribution: https://en.wikipedia.org/wiki/Bernoulli_distribution\n",
    "</div>\n",
    "****"
   ]
  },
  {
   "cell_type": "code",
   "execution_count": 1,
   "metadata": {},
   "outputs": [],
   "source": [
    "import pandas as pd\n",
    "import numpy as np\n",
    "from scipy import stats"
   ]
  },
  {
   "cell_type": "code",
   "execution_count": 2,
   "metadata": {},
   "outputs": [],
   "source": [
    "data = pd.io.stata.read_stata('data/us_job_market_discrimination.dta')"
   ]
  },
  {
   "cell_type": "markdown",
   "metadata": {},
   "source": [
    "### Q1: What test is appropriate for this problem? Does CLT apply?\n",
    "\n",
    "A 2-sample t-test is appropriate to determine if the callback rates for resumes with white- and black-sounding names are the same or if they are different.\n",
    "\n",
    "The CLT applies because the binomial outcome can be approximated with a normal distribution due to the large sample size."
   ]
  },
  {
   "cell_type": "markdown",
   "metadata": {},
   "source": [
    "### Q2: What are the null and alternate hypotheses?\n",
    "\n",
    "- Null hypothesis: The callback rates for white- and black-sounding names are *the same*.\n",
    "- Alternate hypothesis: The call back rates for white- and black-sounding names are *different*."
   ]
  },
  {
   "cell_type": "markdown",
   "metadata": {},
   "source": [
    "### Q3: Compute margin of error, confidence interval, and p-value."
   ]
  },
  {
   "cell_type": "code",
   "execution_count": 3,
   "metadata": {},
   "outputs": [],
   "source": [
    "# prep\n",
    "white = data[data['race'] == 'w']\n",
    "black = data[data['race'] == 'b']\n",
    "\n",
    "n_white = len(white)\n",
    "n_black = len(black)\n",
    "\n",
    "p_white = np.sum(white['call']) / n_white\n",
    "p_black = np.sum(black['call']) / n_black\n",
    "\n",
    "p_diff = p_white - p_black\n",
    "\n",
    "var_white = white['call'].var()\n",
    "var_black = black['call'].var()\n",
    "\n",
    "standard_error = np.sqrt(var_white/n_white + var_black/n_black)"
   ]
  },
  {
   "cell_type": "code",
   "execution_count": 4,
   "metadata": {},
   "outputs": [],
   "source": [
    "# margin of error\n",
    "margin_of_error = 1.96 * standard_error"
   ]
  },
  {
   "cell_type": "code",
   "execution_count": 5,
   "metadata": {},
   "outputs": [],
   "source": [
    "# confidence interval\n",
    "low, high = p_diff - margin_of_error, p_diff + margin_of_error"
   ]
  },
  {
   "cell_type": "code",
   "execution_count": 6,
   "metadata": {},
   "outputs": [],
   "source": [
    "# p-value\n",
    "p_value = stats.ttest_ind(white['call'], black['call'], equal_var=False)[1]"
   ]
  },
  {
   "cell_type": "code",
   "execution_count": 7,
   "metadata": {},
   "outputs": [
    {
     "name": "stdout",
     "output_type": "stream",
     "text": [
      "Callback Rate for White-sounding Names: 0.097\n",
      "Callback Rate for Black-sounding Names: 0.064\n",
      "\n",
      "Point Estimate: 0.032\n",
      "Margin of Error: 0.015\n",
      "Confidence Interval: ( 0.017 , 0.047 )\n",
      "p-value: 3.942941513645935e-05\n"
     ]
    }
   ],
   "source": [
    "print('Callback Rate for White-sounding Names:', round(p_white, 3))\n",
    "print('Callback Rate for Black-sounding Names:', round(p_black, 3))\n",
    "\n",
    "print()\n",
    "\n",
    "print('Point Estimate:', round(p_diff, 3))\n",
    "print('Margin of Error:', round(margin_of_error, 3))\n",
    "print('Confidence Interval: (', round(low, 3), ',', round(high, 3), ')')\n",
    "print('p-value:', p_value)"
   ]
  },
  {
   "cell_type": "markdown",
   "metadata": {},
   "source": [
    "### Q4: Write a story describing the statistical significance in the context or the original problem.\n",
    "\n",
    "This analysis finds a statistically significant difference in the callback rates for resumes with white-sounding names and resumes with black-sounding names. Assuming all other aspects of the resumes are comparable, this indicates that racial bias is decreasing the rate at which black applicants are called for an interview compared to white candidates by approximately 3 percentage points."
   ]
  },
  {
   "cell_type": "markdown",
   "metadata": {},
   "source": [
    "### Q5: Does your analysis mean that race/name is the most important factor in callback success? Why or why not? If not, how would you amend your analysis?\n",
    "\n",
    "While racial bias is a factor in callback success, we did not examine the effect of any other single indicator, let alone the impact of multiple factors in combination. So, we cannot say that the \"race\" of the name is the strongest factor, we can say that it is a *statistically significant* factor. Further analysis could examine other single factors or combinations of factors."
   ]
  }
 ],
 "metadata": {
  "kernelspec": {
   "display_name": "Python 3",
   "language": "python",
   "name": "python3"
  },
  "language_info": {
   "codemirror_mode": {
    "name": "ipython",
    "version": 3
   },
   "file_extension": ".py",
   "mimetype": "text/x-python",
   "name": "python",
   "nbconvert_exporter": "python",
   "pygments_lexer": "ipython3",
   "version": "3.6.6"
  }
 },
 "nbformat": 4,
 "nbformat_minor": 1
}
